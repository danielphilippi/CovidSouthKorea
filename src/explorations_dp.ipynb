{
 "cells": [
  {
   "cell_type": "code",
   "execution_count": null,
   "id": "wanted-equipment",
   "metadata": {},
   "outputs": [],
   "source": [
    "import os\n",
    "\n",
    "import pandas as pd\n",
    "from matplotlib import pyplot as plt\n",
    "import seaborn as sns\n",
    "\n",
    "# fix autocomplete\n",
    "# https://stackoverflow.com/questions/40536560/ipython-and-jupyter-autocomplete-not-working\n",
    "%config Completer.use_jedi = False"
   ]
  },
  {
   "cell_type": "code",
   "execution_count": null,
   "id": "supreme-beauty",
   "metadata": {},
   "outputs": [],
   "source": [
    "datapath = \"../data/\""
   ]
  },
  {
   "cell_type": "markdown",
   "id": "assured-taiwan",
   "metadata": {},
   "source": [
    "# Explore Data"
   ]
  },
  {
   "cell_type": "code",
   "execution_count": null,
   "id": "least-equation",
   "metadata": {},
   "outputs": [],
   "source": [
    "os.listdir(datapath)"
   ]
  },
  {
   "cell_type": "markdown",
   "id": "organic-emergency",
   "metadata": {},
   "source": [
    "## Apple mobility"
   ]
  },
  {
   "cell_type": "code",
   "execution_count": null,
   "id": "perfect-gauge",
   "metadata": {},
   "outputs": [],
   "source": [
    "mobility = pd.read_csv(os.path.join(datapath, 'applemobilitytrends.csv'))"
   ]
  },
  {
   "cell_type": "code",
   "execution_count": null,
   "id": "illegal-squad",
   "metadata": {},
   "outputs": [],
   "source": [
    "mobility.describe()"
   ]
  },
  {
   "cell_type": "code",
   "execution_count": null,
   "id": "coated-study",
   "metadata": {},
   "outputs": [],
   "source": [
    "mobility.head()"
   ]
  },
  {
   "cell_type": "code",
   "execution_count": null,
   "id": "alternate-scroll",
   "metadata": {},
   "outputs": [],
   "source": [
    "mobility.columns"
   ]
  },
  {
   "cell_type": "markdown",
   "id": "inner-stockholm",
   "metadata": {},
   "source": [
    "## WHO"
   ]
  },
  {
   "cell_type": "code",
   "execution_count": null,
   "id": "transparent-identifier",
   "metadata": {},
   "outputs": [],
   "source": [
    "who_map = pd.read_csv(os.path.join(datapath, 'WHO-COVID-19-global-data.csv'))"
   ]
  },
  {
   "cell_type": "code",
   "execution_count": null,
   "id": "banner-wisconsin",
   "metadata": {},
   "outputs": [],
   "source": [
    "who_map.head()"
   ]
  },
  {
   "cell_type": "code",
   "execution_count": null,
   "id": "alternative-branch",
   "metadata": {},
   "outputs": [],
   "source": [
    "tmp = who_map[who_map.Country == 'Germany']"
   ]
  },
  {
   "cell_type": "code",
   "execution_count": null,
   "id": "rental-delta",
   "metadata": {},
   "outputs": [],
   "source": [
    "sns.lineplot(data=tmp, x='Date_reported', y='New_cases')"
   ]
  },
  {
   "cell_type": "markdown",
   "id": "fancy-collaboration",
   "metadata": {},
   "source": [
    "## Our world in data"
   ]
  },
  {
   "cell_type": "code",
   "execution_count": null,
   "id": "canadian-default",
   "metadata": {},
   "outputs": [],
   "source": [
    "owid = pd.read_csv(os.path.join(datapath, 'owid-covid-data.csv'))"
   ]
  },
  {
   "cell_type": "code",
   "execution_count": null,
   "id": "loose-topic",
   "metadata": {},
   "outputs": [],
   "source": [
    "owid.head()"
   ]
  },
  {
   "cell_type": "code",
   "execution_count": null,
   "id": "overall-corrections",
   "metadata": {},
   "outputs": [],
   "source": [
    "owid['date'] = pd.to_datetime(owid.date)"
   ]
  },
  {
   "cell_type": "code",
   "execution_count": null,
   "id": "awful-johnson",
   "metadata": {},
   "outputs": [],
   "source": [
    "owid.dtypes"
   ]
  },
  {
   "cell_type": "code",
   "execution_count": null,
   "id": "korean-velvet",
   "metadata": {},
   "outputs": [],
   "source": [
    "tmp = owid[owid.location == 'Germany']\n",
    "tmp"
   ]
  },
  {
   "cell_type": "code",
   "execution_count": null,
   "id": "environmental-building",
   "metadata": {},
   "outputs": [],
   "source": [
    "pd.DataFrame({'Cols': owid.columns})"
   ]
  },
  {
   "cell_type": "code",
   "execution_count": null,
   "id": "natural-links",
   "metadata": {},
   "outputs": [],
   "source": [
    "owid.dtypes"
   ]
  },
  {
   "cell_type": "code",
   "execution_count": null,
   "id": "growing-enemy",
   "metadata": {},
   "outputs": [],
   "source": [
    "sns.lineplot(data=tmp, x='date', y='new_tests')"
   ]
  },
  {
   "cell_type": "code",
   "execution_count": null,
   "id": "coral-detail",
   "metadata": {},
   "outputs": [],
   "source": [
    "tmp.new_tests"
   ]
  },
  {
   "cell_type": "code",
   "execution_count": null,
   "id": "adjustable-question",
   "metadata": {},
   "outputs": [],
   "source": [
    "owid_tests = owid.loc[~owid.new_tests.isna(), ['location', 'date', 'new_tests']]\n",
    "owid_tests.location.unique()"
   ]
  },
  {
   "cell_type": "code",
   "execution_count": null,
   "id": "robust-confidence",
   "metadata": {},
   "outputs": [],
   "source": [
    "owid.columns[owid.columns.str.contains('tests')]"
   ]
  },
  {
   "cell_type": "code",
   "execution_count": null,
   "id": "sitting-fortune",
   "metadata": {},
   "outputs": [],
   "source": [
    "sns.lineplot(data=owid.loc[owid.location == 'Israel',:], x='date', y='new_tests_smoothed_per_thousand')"
   ]
  },
  {
   "cell_type": "code",
   "execution_count": null,
   "id": "arranged-bunch",
   "metadata": {},
   "outputs": [],
   "source": [
    "sns.lineplot(data=owid.loc[owid.location == 'Czechia',:], x='date', y='new_tests_smoothed_per_thousand')"
   ]
  },
  {
   "cell_type": "code",
   "execution_count": null,
   "id": "medium-publication",
   "metadata": {},
   "outputs": [],
   "source": [
    "fig, ax = plt.subplots(nrows=1, figsize=(10,20))\n",
    "\n",
    "col = 'total_tests_per_thousand'\n",
    "col = 'stringency_index'\n",
    "sns.heatmap(owid[(~owid[col].isna()) & (owid.continent == 'Europe') ].pivot('location', 'date', col))\n",
    "plt.show()"
   ]
  },
  {
   "cell_type": "code",
   "execution_count": null,
   "id": "liquid-payroll",
   "metadata": {
    "scrolled": false
   },
   "outputs": [],
   "source": [
    "fig, (ax1, ax2) = plt.subplots(nrows=2, figsize=(10,20), sharex=False)\n",
    "\n",
    "col = 'total_tests_per_thousand'\n",
    "col = 'stringency_index'\n",
    "for country in owid[(~owid[col].isna()) & (owid.continent == 'Europe')].location[0:10]: \n",
    "    sns.heatmap(owid[(owid.location == country)].pivot('location', 'date', col), ax=ax1)\n",
    "    sns.lineplot(data=owid.loc[owid.location == country,:], x='date', y=col, ax=ax2)\n",
    "    plt.show()"
   ]
  },
  {
   "cell_type": "markdown",
   "id": "auburn-hands",
   "metadata": {},
   "source": [
    "## Google "
   ]
  },
  {
   "cell_type": "markdown",
   "id": "negative-extraction",
   "metadata": {},
   "source": [
    "### mobility"
   ]
  },
  {
   "cell_type": "code",
   "execution_count": null,
   "id": "stylish-spouse",
   "metadata": {},
   "outputs": [],
   "source": [
    "g_mobility = pd.read_csv(os.path.join(datapath, 'Global_Mobility_Report.csv'))"
   ]
  },
  {
   "cell_type": "code",
   "execution_count": null,
   "id": "linear-reliance",
   "metadata": {},
   "outputs": [],
   "source": [
    "g_mobility.head()"
   ]
  },
  {
   "cell_type": "code",
   "execution_count": null,
   "id": "living-masters",
   "metadata": {},
   "outputs": [],
   "source": []
  }
 ],
 "metadata": {
  "kernelspec": {
   "display_name": "Python 3",
   "language": "python",
   "name": "python3"
  },
  "language_info": {
   "codemirror_mode": {
    "name": "ipython",
    "version": 3
   },
   "file_extension": ".py",
   "mimetype": "text/x-python",
   "name": "python",
   "nbconvert_exporter": "python",
   "pygments_lexer": "ipython3",
   "version": "3.6.3"
  }
 },
 "nbformat": 4,
 "nbformat_minor": 5
}
