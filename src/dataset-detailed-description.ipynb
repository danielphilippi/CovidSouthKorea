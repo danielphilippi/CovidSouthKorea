{
 "cells": [
  {
   "cell_type": "markdown",
   "metadata": {},
   "source": [
    "# 1. The Lists of Data Table\n",
    "### 1) Case Data\n",
    "- **Case**: Data of COVID-19 infection cases in South Korea\n",
    "\n",
    "https://www.kaggle.com/kimjihoo/coronavirusdataset/discussion/159004\n",
    "\n",
    "https://github.com/ThisIsIsaac/Data-Science-for-COVID-19\n",
    "\n",
    "\n",
    "### 2) Patient Data\n",
    "- **PatientInfo**: Epidemiological data of COVID-19 patients in South Korea\n",
    "- **PatientRoute**: Route data of COVID-19 patients in South Korea (currently unavailable)\n",
    "\n",
    "### 3) Time Series Data\n",
    "- **Time**: Time series data of COVID-19 status in South Korea\n",
    "- **TimeAge**: Time series data of COVID-19 status in terms of the age in South Korea\n",
    "- **TimeGender**: Time series data of COVID-19 status in terms of gender in South Korea\n",
    "- **TimeProvince**: Time series data of COVID-19 status in terms of the Province in South Korea\n",
    "\n",
    "### 4) Additional Data\n",
    "- **Region**: Location and statistical data of the regions in South Korea\n",
    "- **Weather**: Data of the weather in the regions of South Korea\n",
    "- **SearchTrend**: Trend data of the keywords searched in NAVER which is one of the largest portals in South Korea\n",
    "- **SeoulFloating**: Data of floating population in Seoul, South Korea (from SK Telecom Big Data Hub)\n",
    "- **Policy**: Data of the government policy for COVID-19 in South Korea"
   ]
  },
  {
   "cell_type": "markdown",
   "metadata": {},
   "source": [
    "# 2. The Structure of our Dataset\n",
    "- What color means is that they have similar properties.\n",
    "- If a line is connected between columns, it means that the values of the columns are partially shared.\n",
    "- The dotted lines mean weak relevance.\n",
    "![db_0701](https://user-images.githubusercontent.com/50820635/86225695-8dca0580-bbc5-11ea-9e9b-b0ca33414d8a.PNG)"
   ]
  },
  {
   "cell_type": "markdown",
   "metadata": {},
   "source": [
    "# 3. The Detailed Description of each Data Table"
   ]
  },
  {
   "cell_type": "code",
   "execution_count": null,
   "metadata": {},
   "outputs": [],
   "source": [
    "import os\n",
    "\n",
    "%config Completer.use_jedi = False\n",
    "\n",
    "os.getcwd()\n",
    "\n"
   ]
  },
  {
   "cell_type": "code",
   "execution_count": null,
   "metadata": {
    "_cell_guid": "b1076dfc-b9ad-4769-8c92-a6c4dae69d19",
    "_uuid": "8f2839f25d086af736a60e9eeb907d3b93b6e0e5"
   },
   "outputs": [],
   "source": [
    "# This Python 3 environment comes with many helpful analytics libraries installed\n",
    "# It is defined by the kaggle/python docker image: https://github.com/kaggle/docker-python\n",
    "# For example, here's several helpful packages to load in \n",
    "\n",
    "import numpy as np # linear algebra\n",
    "import pandas as pd # data processing, CSV file I/O (e.g. pd.read_csv)\n",
    "\n",
    "# Input data files are available in the \"../input/\" directory.\n",
    "# For example, running this (by clicking run or pressing Shift+Enter) will list all files under the input directory\n",
    "\n",
    "import os\n",
    "for dirname, _, filenames in os.walk('../data'):\n",
    "    for filename in filenames:\n",
    "        print(os.path.join(dirname, filename))\n",
    "\n",
    "# Any results you write to the current directory are saved as output."
   ]
  },
  {
   "cell_type": "code",
   "execution_count": null,
   "metadata": {},
   "outputs": [],
   "source": [
    "#path = 'kaggle/input/coronavirusdataset/'\n",
    "path = '../data/coronavirusdataset/'\n",
    "\n",
    "case = p_info = pd.read_csv(path+'Case.csv')\n",
    "p_info = pd.read_csv(path+'PatientInfo.csv')\n",
    "#p_route = pd.read_csv(path+'PatientRoute.csv')\n",
    "time = pd.read_csv(path+'Time.csv')\n",
    "t_age = pd.read_csv(path+'TimeAge.csv')\n",
    "t_gender = pd.read_csv(path+'TimeGender.csv')\n",
    "t_provin = pd.read_csv(path+'TimeProvince.csv')\n",
    "region = pd.read_csv(path+'Region.csv')\n",
    "weather = pd.read_csv(path+'Weather.csv')\n",
    "search = pd.read_csv(path+'SearchTrend.csv')\n",
    "floating = pd.read_csv(path+'SeoulFloating.csv')\n",
    "policy = pd.read_csv(path+'Policy.csv')"
   ]
  },
  {
   "cell_type": "markdown",
   "metadata": {},
   "source": [
    "##### Before the Start..\n",
    "- We make a structured dataset based on the report materials of KCDC and local governments.\n",
    "- In Korea, we use the terms named '-do', '-si', '-gun' and '-gu',\n",
    "- The meaning of them are explained below.\n",
    "\n",
    "***\n",
    "\n",
    "\n",
    "### Levels of administrative divisions in South Korea\n",
    "#### Upper Level (Provincial-level divisions)\n",
    "- **Special City**:\n",
    "*Seoul*\n",
    "- **Metropolitan City**:\n",
    "*Busan / Daegu / Daejeon / Gwangju / Incheon / Ulsan*\n",
    "- **Province(-do)**:\n",
    "*Gyeonggi-do / Gangwon-do / Chungcheongbuk-do / Chungcheongnam-do / Jeollabuk-do / Jeollanam-do / Gyeongsangbuk-do / Gyeongsangnam-do*\n",
    "\n",
    "#### Lower Level (Municipal-level divisions)\n",
    "- **City(-si)**\n",
    "[List of cities in South Korea](https://en.wikipedia.org/wiki/List_of_cities_in_South_Korea)\n",
    "- **Country(-gun)**\n",
    "[List of counties of South Korea](https://en.wikipedia.org/wiki/List_of_counties_of_South_Korea)\n",
    "- **District(-gu)**\n",
    "[List of districts in South Korea](https://en.wikipedia.org/wiki/List_of_districts_in_South_Korea)\n",
    "\n",
    "***\n",
    "\n",
    "<img src=\"https://www.googleapis.com/download/storage/v1/b/kaggle-user-content/o/inbox%2F2815958%2F1c50702025f44b0c1ce92460bd2ea3f9%2Fus_hi_30-1.jpg?generation=1582819435038273&amp;alt=media\">\n",
    "\n",
    "***\n",
    "\n",
    "Sources\n",
    "- http://nationalatlas.ngii.go.kr/pages/page_1266.php\n",
    "- https://en.wikipedia.org/wiki/Administrative_divisions_of_South_Korea"
   ]
  },
  {
   "cell_type": "markdown",
   "metadata": {},
   "source": [
    "### 1) Case\n",
    "#### Data of COVID-19 infection cases in South Korea\n",
    "1. case_id: the ID of the infection case\n",
    "  > - case_id(7) = region_code(5) + case_number(2)  \n",
    "  > - You can check the region_code in 'Region.csv'\n",
    "- province: Special City / Metropolitan City / Province(-do)\n",
    "- city: City(-si) / Country (-gun) / District (-gu)\n",
    "  > - The value 'from other city' means that where the group infection started is other city.\n",
    "- group: TRUE: group infection / FALSE: not group\n",
    "  > - If the value is 'TRUE' in this column, the value of 'infection_cases' means the name of group.  \n",
    "  > - The values named 'contact with patient', 'overseas inflow' and 'etc' are not group infection. \n",
    "- infection_case: the infection case (the name of group or other cases)\n",
    "  > - The value 'overseas inflow' means that the infection is from other country.  \n",
    "  > - The value 'etc' includes individual cases, cases where relevance classification is ongoing after investigation, and cases under investigation.\n",
    "- confirmed: the accumulated number of the confirmed\n",
    "- latitude: the latitude of the group (WGS84)\n",
    "- longitude: the longitude of the group (WGS84)\n"
   ]
  },
  {
   "cell_type": "code",
   "execution_count": null,
   "metadata": {},
   "outputs": [],
   "source": [
    "case.head()"
   ]
  },
  {
   "cell_type": "code",
   "execution_count": null,
   "metadata": {},
   "outputs": [],
   "source": [
    "case.shape\n"
   ]
  },
  {
   "cell_type": "markdown",
   "metadata": {},
   "source": [
    "### 2) PatientInfo\n",
    "#### Epidemiological data of COVID-19 patients in South Korea\n",
    "1. patient_id: the ID of the patient\n",
    "  > - patient_id(10) = region_code(5) + patient_number(5)\n",
    "  > - You can check the region_code in 'Region.csv'\n",
    "  > - There are two types of the patient_number  \n",
    "      1) local_num: The number given by the local government.  \n",
    "      2) global_num: The number given by the KCDC  \n",
    "- sex: the sex of the patient\n",
    "- age: the age of the patient\n",
    "  > - 0s: 0 ~ 9  \n",
    "  > - 10s: 10 ~ 19  \n",
    "  ...  \n",
    "  > - 90s: 90 ~ 99  \n",
    "  > - 100s: 100 ~ 109\n",
    "- country: the country of the patient\n",
    "- province: the province of the patient\n",
    "- city: the city of the patient\n",
    "- infection_case: the case of infection\n",
    "- infected_by: the ID of who infected the patient\n",
    "  > - This column refers to the  'patient_id' column. \n",
    "- contact_number: the number of contacts with people\n",
    "- symptom_onset_date: the date of symptom onset\n",
    "- confirmed_date: the date of being confirmed\n",
    "- released_date: the date of being released\n",
    "- deceased_date: the date of being deceased\n",
    "- state: isolated / released / deceased\n",
    "  > - isolated: being isolated in the hospital\n",
    "  > - released: being released from the hospital\n",
    "  > - deceased: being deceased"
   ]
  },
  {
   "cell_type": "code",
   "execution_count": null,
   "metadata": {},
   "outputs": [],
   "source": [
    "p_info.head()"
   ]
  },
  {
   "cell_type": "code",
   "execution_count": null,
   "metadata": {},
   "outputs": [],
   "source": [
    "p_info.infection_case.value_counts()"
   ]
  },
  {
   "cell_type": "code",
   "execution_count": null,
   "metadata": {},
   "outputs": [],
   "source": [
    "p_info.state.value_counts()"
   ]
  },
  {
   "cell_type": "code",
   "execution_count": null,
   "metadata": {},
   "outputs": [],
   "source": [
    "p_info.deceased_date.isna().sum()"
   ]
  },
  {
   "cell_type": "code",
   "execution_count": null,
   "metadata": {},
   "outputs": [],
   "source": [
    "p_info.infected_by.isna().sum()"
   ]
  },
  {
   "cell_type": "code",
   "execution_count": null,
   "metadata": {},
   "outputs": [],
   "source": [
    "p_info.shape"
   ]
  },
  {
   "cell_type": "code",
   "execution_count": null,
   "metadata": {},
   "outputs": [],
   "source": [
    "p_info.patient_id.nunique()"
   ]
  },
  {
   "cell_type": "code",
   "execution_count": null,
   "metadata": {},
   "outputs": [],
   "source": [
    "%config Completer.use_jedi = False"
   ]
  },
  {
   "cell_type": "code",
   "execution_count": null,
   "metadata": {},
   "outputs": [],
   "source": [
    "\n",
    "pd.to_datetime(p_info.confirmed_date).max()"
   ]
  },
  {
   "cell_type": "markdown",
   "metadata": {},
   "source": [
    "# network grpahs\n",
    "https://www.visualcinnamon.com/portfolio/intangible-cultural-heritage/"
   ]
  },
  {
   "cell_type": "code",
   "execution_count": null,
   "metadata": {},
   "outputs": [],
   "source": []
  },
  {
   "cell_type": "markdown",
   "metadata": {},
   "source": [
    "### 3) PatientRoute\n",
    "#### Route data of COVID-19 patients in South Korea\n",
    "- patient_id: the ID of the patient\n",
    "- date: YYYY-MM-DD\n",
    "- province: Special City / Metropolitan City / Province(-do)\n",
    "- city: City(-si) / Country (-gun) / District (-gu)\n",
    "- latitude: the latitude of the visit (WGS84)\n",
    "- longitude: the longitude of the visit (WGS84)"
   ]
  },
  {
   "cell_type": "code",
   "execution_count": null,
   "metadata": {},
   "outputs": [],
   "source": [
    "#p_route.head()"
   ]
  },
  {
   "cell_type": "markdown",
   "metadata": {},
   "source": [
    "### 4) Time\n",
    "#### Time series data of COVID-19 status in South Korea\n",
    "- date: YYYY-MM-DD\n",
    "- time: Time (0 = AM 12:00 / 16 = PM 04:00)\n",
    "  > - The time for KCDC to open the information has been changed from PM 04:00 to AM 12:00 since March 2nd.\n",
    "- test: the accumulated number of tests\n",
    "  > - A test is a diagnosis of an infection.\n",
    "- negative: the accumulated number of negative results\n",
    "- confirmed: the accumulated number of positive results\n",
    "- released: the accumulated number of releases\n",
    "- deceased: the accumulated number of deceases"
   ]
  },
  {
   "cell_type": "code",
   "execution_count": null,
   "metadata": {},
   "outputs": [],
   "source": [
    "time.head()"
   ]
  },
  {
   "cell_type": "markdown",
   "metadata": {},
   "source": [
    "### 5) TimeAge\n",
    "#### Time series data of COVID-19 status in terms of the age in South Korea\n",
    "- date: YYYY-MM-DD\n",
    "  > - The status in terms of the age has been presented since March 2nd.\n",
    "- time: Time\n",
    "- age: the age of patients\n",
    "- confirmed: the accumulated number of the confirmed\n",
    "- deceased: the accumulated number of the deceased"
   ]
  },
  {
   "cell_type": "code",
   "execution_count": null,
   "metadata": {},
   "outputs": [],
   "source": [
    "t_age.head()"
   ]
  },
  {
   "cell_type": "markdown",
   "metadata": {},
   "source": [
    "### 6) TimeGender\n",
    "#### Time series data of COVID-19 status in terms of the gender in South Korea\n",
    "- date: YYYY-MM-DD\n",
    "  > - The status in terms of the gender has been presented since March 2nd.\n",
    "- time: Time\n",
    "- sex: the gender of patients\n",
    "- confirmed: the accumulated number of the confirmed\n",
    "- deceased: the accumulated number of the deceased"
   ]
  },
  {
   "cell_type": "code",
   "execution_count": null,
   "metadata": {},
   "outputs": [],
   "source": [
    "t_gender.head()"
   ]
  },
  {
   "cell_type": "markdown",
   "metadata": {},
   "source": [
    "### 7) TimeProvince\n",
    "#### Time series data of COVID-19 status in terms of the Province in South Korea\n",
    "- date: YYYY-MM-DD\n",
    "- time: Time\n",
    "- province: the province of South Korea\n",
    "- confirmed: the accumulated number of the confirmed in the province\n",
    "  > - The confirmed status in terms of the provinces has been presented since Feburary 21th.\n",
    "  > - The value before Feburary 21th can be different.\n",
    "- released: the accumulated number of the released in the province\n",
    "  > - The confirmed status in terms of the provinces has been presented since March 5th.\n",
    "  > - The value before March 5th can be different.\n",
    "- deceased: the accumulated number of the deceased in the province\n",
    "  > - The confirmed status in terms of the provinces has been presented since March 5th.\n",
    "  > - The value before March 5th can be different."
   ]
  },
  {
   "cell_type": "code",
   "execution_count": null,
   "metadata": {},
   "outputs": [],
   "source": [
    "t_provin.head()"
   ]
  },
  {
   "cell_type": "markdown",
   "metadata": {},
   "source": [
    "### 8) Region\n",
    "#### Location and statistical data of the regions in South Korea\n",
    "- code: the code of the region\n",
    "- province: Special City / Metropolitan City / Province(-do)\n",
    "- city: City(-si) / Country (-gun) / District (-gu)\n",
    "- latitude: the latitude of the visit (WGS84)\n",
    "- longitude: the longitude of the visit (WGS84)\n",
    "- elementary_school_count: the number of elementary schools\n",
    "- kindergarten_count: the number of kindergartens\n",
    "- university_count: the number of universities\n",
    "- academy_ratio: the ratio of academies\n",
    "- elderly_population_ratio: the ratio of the elderly population\n",
    "- elderly_alone_ratio: the ratio of elderly households living alone\n",
    "- nursing_home_count: the number of nursing homes\n",
    "\n",
    "Source of the statistic: [KOSTAT (Statistics Korea)](http://kosis.kr/)"
   ]
  },
  {
   "cell_type": "code",
   "execution_count": null,
   "metadata": {},
   "outputs": [],
   "source": [
    "region.head()"
   ]
  },
  {
   "cell_type": "markdown",
   "metadata": {},
   "source": [
    "### 9) Weather\n",
    "#### Data of the weather in the regions of South Korea\n",
    "- code: the code of the region\n",
    "- province: Special City / Metropolitan City / Province(-do)\n",
    "- date: YYYY-MM-DD\n",
    "- avg_temp: the average temperature\n",
    "- min_temp: the lowest temperature\n",
    "- max_temp: the highest temperature\n",
    "- precipitation: the daily precipitation\n",
    "- max_wind_speed: the maximum wind speed\n",
    "- most_wind_direction: the most frequent wind direction\n",
    "- avg_relative_humidity: the average relative humidity\n",
    "\n",
    "Source of the weather data: [KMA (Korea Meteorological Administration)](http://data.kma.go.kr)"
   ]
  },
  {
   "cell_type": "code",
   "execution_count": null,
   "metadata": {},
   "outputs": [],
   "source": [
    "weather.head()"
   ]
  },
  {
   "cell_type": "markdown",
   "metadata": {},
   "source": [
    "### 10) SearchTrend\n",
    "#### Trend data of the keywords searched in NAVER which is one of the largest portal in South Korea\n",
    "- date: YYYY-MM-DD\n",
    "- cold: the search volume of 'cold' in Korean language\n",
    "  > - The unit means relative value by setting the highest search volume in the period to 100.\n",
    "- flu: the search volume of 'flu' in Korean language\n",
    "  > - Same as above.\n",
    "- pneumonia: the search volume of 'pneumonia' in Korean language\n",
    "  > - Same as above.\n",
    "- coronavirus: the search volume of 'coronavirus' in Korean language\n",
    "  > - Same as above.\n",
    "\n",
    "\n",
    "Source of the data: [NAVER DataLab](https://datalab.naver.com/)"
   ]
  },
  {
   "cell_type": "code",
   "execution_count": null,
   "metadata": {},
   "outputs": [],
   "source": [
    "search.head()"
   ]
  },
  {
   "cell_type": "markdown",
   "metadata": {},
   "source": [
    "### 11) SeoulFloating\n",
    "#### Data of floating population in Seoul, South Korea (from SK Telecom Big Data Hub)\n",
    "\n",
    "- date: YYYY-MM-DD\n",
    "- hour: Hour\n",
    "- birth_year: the birth year of the floating population\n",
    "- sext: he sex of the floating population\n",
    "- province: Special City / Metropolitan City / Province(-do)\n",
    "- city: City(-si) / Country (-gun) / District (-gu)\n",
    "- fp_num: the number of floating population\n",
    "\n",
    "Source of the data: [SKT Big Data Hub](https://www.bigdatahub.co.kr)"
   ]
  },
  {
   "cell_type": "code",
   "execution_count": null,
   "metadata": {},
   "outputs": [],
   "source": [
    "floating.head()"
   ]
  },
  {
   "cell_type": "markdown",
   "metadata": {},
   "source": [
    "### 12) Policy\n",
    "#### Data of the government policy for COVID-19 in South Korea\n",
    "\n",
    "- policy_id: the ID of the policy\n",
    "- country: the country that implemented the policy\n",
    "- type: the type of the policy\n",
    "- gov_policy: the policy of the government\n",
    "- detail: the detail of the policy\n",
    "- start_date: the start date of the policy\n",
    "- end_date: the end date of the policy"
   ]
  },
  {
   "cell_type": "code",
   "execution_count": null,
   "metadata": {},
   "outputs": [],
   "source": [
    "policy.head()"
   ]
  }
 ],
 "metadata": {
  "kernelspec": {
   "display_name": "Python 3",
   "language": "python",
   "name": "python3"
  },
  "language_info": {
   "codemirror_mode": {
    "name": "ipython",
    "version": 3
   },
   "file_extension": ".py",
   "mimetype": "text/x-python",
   "name": "python",
   "nbconvert_exporter": "python",
   "pygments_lexer": "ipython3",
   "version": "3.6.3"
  }
 },
 "nbformat": 4,
 "nbformat_minor": 4
}
