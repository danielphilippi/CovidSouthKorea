{
 "cells": [
  {
   "cell_type": "code",
   "execution_count": null,
   "id": "skilled-claim",
   "metadata": {},
   "outputs": [],
   "source": [
    "import pandas as pd\n",
    "import numpy as np\n",
    "import plotly.graph_objects as go\n",
    "import networkx as nx\n",
    "\n",
    "\n",
    "%config Completer.use_jedi = False"
   ]
  },
  {
   "cell_type": "code",
   "execution_count": null,
   "id": "robust-demonstration",
   "metadata": {},
   "outputs": [],
   "source": [
    "# definitions \n",
    "\n",
    "inpath_skorea = \"../data/coronavirusdataset/\""
   ]
  },
  {
   "cell_type": "code",
   "execution_count": null,
   "id": "vocal-sphere",
   "metadata": {},
   "outputs": [],
   "source": [
    "# read data\n",
    "#path = 'kaggle/input/coronavirusdataset/'\n",
    "path = inpath_skorea\n",
    "\n",
    "case = p_info = pd.read_csv(path+'Case.csv')\n",
    "p_info = pd.read_csv(path+'PatientInfo.csv')\n",
    "#p_route = pd.read_csv(path+'PatientRoute.csv')\n",
    "time = pd.read_csv(path+'Time.csv')\n",
    "t_age = pd.read_csv(path+'TimeAge.csv')\n",
    "t_gender = pd.read_csv(path+'TimeGender.csv')\n",
    "t_provin = pd.read_csv(path+'TimeProvince.csv')\n",
    "region = pd.read_csv(path+'Region.csv')\n",
    "weather = pd.read_csv(path+'Weather.csv')\n",
    "search = pd.read_csv(path+'SearchTrend.csv')\n",
    "floating = pd.read_csv(path+'SeoulFloating.csv')\n",
    "policy = pd.read_csv(path+'Policy.csv')"
   ]
  },
  {
   "cell_type": "markdown",
   "id": "extreme-aluminum",
   "metadata": {},
   "source": [
    "# further plots\n",
    "- waterfall: \n",
    "    - patients\n",
    "    - ... with tracking\n",
    "    -"
   ]
  },
  {
   "cell_type": "code",
   "execution_count": null,
   "id": "higher-trauma",
   "metadata": {},
   "outputs": [],
   "source": []
  },
  {
   "cell_type": "code",
   "execution_count": null,
   "id": "urban-halloween",
   "metadata": {},
   "outputs": [],
   "source": [
    "p_info[~p_info.infected_by.isna()].infection_case.value_counts()"
   ]
  },
  {
   "cell_type": "code",
   "execution_count": null,
   "id": "alien-despite",
   "metadata": {},
   "outputs": [],
   "source": [
    "edges = pd.DataFrame({\n",
    "    'source': p_info.infected_by, \n",
    "    'target': p_info.patient_id\n",
    "})\n",
    "edges = edges[~edges.source.isna()]\n",
    "edges.reset_index(drop=True, inplace=True)\n",
    "\n",
    "\n",
    "# filter invalid source ids (3)\n",
    "len('2000000205')\n",
    "# set([i if len(s) != 10 for i, s in enumerate(edgelist.source)])\n",
    "f = [len(s) == 10 for s in edges.source]\n",
    "edges = edges.loc[f,:]\n",
    "\n",
    "# cast source to int\n",
    "edges.source = edges.source.astype(int)\n",
    "edges\n"
   ]
  },
  {
   "cell_type": "code",
   "execution_count": null,
   "id": "wound-rogers",
   "metadata": {},
   "outputs": [],
   "source": [
    "edges.source.value_counts()"
   ]
  },
  {
   "cell_type": "code",
   "execution_count": null,
   "id": "measured-lambda",
   "metadata": {},
   "outputs": [],
   "source": [
    "edges.dtypes"
   ]
  },
  {
   "cell_type": "code",
   "execution_count": null,
   "id": "maritime-mixer",
   "metadata": {},
   "outputs": [],
   "source": [
    "\n",
    "#nx.from_pandas_adjacency()\n",
    "\n",
    "def build_network(df): \n",
    "    pass\n",
    "\"\"\"\n",
    "https://networkx.org/documentation/stable/reference/generated/networkx.convert_matrix.from_pandas_edgelist.html\n",
    "\"\"\"\n",
    "\n",
    "if False: \n",
    "    edges = pd.DataFrame(\n",
    "        {\n",
    "            \"source\": [0, 1, 2],\n",
    "            \"target\": [2, 2, 3]\n",
    "            ,\n",
    "            \"weight\": [3, 4, 5],\n",
    "            \"color\": [\"red\", \"blue\", \"blue\"],\n",
    "        }\n",
    "    )\n",
    "    \n",
    "G = nx.from_pandas_edgelist(edges)#, edge_attr=True)\n"
   ]
  },
  {
   "cell_type": "code",
   "execution_count": null,
   "id": "undefined-person",
   "metadata": {},
   "outputs": [],
   "source": [
    "G.size()"
   ]
  },
  {
   "cell_type": "code",
   "execution_count": null,
   "id": "short-might",
   "metadata": {},
   "outputs": [],
   "source": [
    "G.number_of_nodes()"
   ]
  },
  {
   "cell_type": "code",
   "execution_count": null,
   "id": "square-savannah",
   "metadata": {},
   "outputs": [],
   "source": [
    "G.number_of_edges()"
   ]
  },
  {
   "cell_type": "code",
   "execution_count": null,
   "id": "deadly-calgary",
   "metadata": {},
   "outputs": [],
   "source": []
  },
  {
   "cell_type": "code",
   "execution_count": null,
   "id": "friendly-dakota",
   "metadata": {},
   "outputs": [],
   "source": [
    "#https://stackoverflow.com/questions/52400380/assign-edge-weights-to-a-networkx-graph-using-pandas-dataframe\n",
    "pos = nx.kamada_kawai_layout(G)\n",
    "pos"
   ]
  },
  {
   "cell_type": "code",
   "execution_count": null,
   "id": "perceived-tender",
   "metadata": {},
   "outputs": [],
   "source": []
  },
  {
   "cell_type": "code",
   "execution_count": null,
   "id": "encouraging-camel",
   "metadata": {},
   "outputs": [],
   "source": [
    "Xv=[p[0] for p in pos.values()]\n",
    "\n",
    "Yv=[p[1] for p in pos.values()]\n",
    "Yv"
   ]
  },
  {
   "cell_type": "code",
   "execution_count": null,
   "id": "colored-width",
   "metadata": {
    "scrolled": false
   },
   "outputs": [],
   "source": [
    "# nx.graph(G, pos=pos)"
   ]
  },
  {
   "cell_type": "code",
   "execution_count": null,
   "id": "monthly-proposition",
   "metadata": {},
   "outputs": [],
   "source": [
    "# nx.draw(G, pos=pos)\n"
   ]
  },
  {
   "cell_type": "code",
   "execution_count": null,
   "id": "warming-backing",
   "metadata": {},
   "outputs": [],
   "source": [
    "E=[e for e in G.edges]# list of edges\n",
    "E\n",
    "\n",
    "for e in G.edges: \n",
    "    print(e)"
   ]
  },
  {
   "cell_type": "code",
   "execution_count": null,
   "id": "technological-neutral",
   "metadata": {},
   "outputs": [],
   "source": [
    "#G = nx.random_geometric_graph(200, 0.125)\n",
    "\n",
    "for i, edge in enumerate(G.edges()): \n",
    "    print(i, edge)\n",
    "    print(i,  G.nodes[edge[0]])\n",
    "    print(i,  G.nodes[edge[1]])\n",
    "\n",
    "    if i > 10: \n",
    "        break \n"
   ]
  },
  {
   "cell_type": "code",
   "execution_count": null,
   "id": "synthetic-supervisor",
   "metadata": {},
   "outputs": [],
   "source": [
    "#N = G.number_of_nodes\n",
    "#E=[e.tuple for e in G.edges]# list of edges\n",
    "labels = list(pos.keys())\n",
    "\n",
    "#https://plotly.com/python/v3/igraph-networkx-comparison/\n",
    "    \n",
    "#Xv=[pos[k][0] for k in range(N)]\n",
    "#Yv=[pos[k][1] for k in range(N)]\n",
    "\n",
    "Xv=[p[0] for p in pos.values()]\n",
    "Yv=[p[1] for p in pos.values()]\n",
    "\n",
    "Xed=[]\n",
    "Yed=[]\n",
    "for edge in G.edges:\n",
    "    Xed+=[pos[edge[0]][0],pos[edge[1]][0], None]\n",
    "    Yed+=[pos[edge[0]][1],pos[edge[1]][1], None]\n",
    "\n",
    "edge_trace=go.Scatter(x=Xed,\n",
    "               y=Yed,\n",
    "               mode='lines',\n",
    "               line=dict(color='rgb(210,210,210)', width=1),\n",
    "               hoverinfo='none'\n",
    "               )\n",
    "\n",
    "\n",
    "\n",
    "node_trace=go.Scatter(x=Xv,\n",
    "               y=Yv,\n",
    "               mode='markers',\n",
    "               name='net',\n",
    "               marker=dict(symbol='circle-dot',\n",
    "                             size=5,\n",
    "                             color='#6959CD',\n",
    "                             line=dict(color='rgb(50,50,50)', width=0.5)\n",
    "                             ),\n",
    "               text=labels,\n",
    "               hoverinfo='text'\n",
    "               )\n",
    "\n",
    "node_adjacencies = []\n",
    "node_text = []\n",
    "for node, adjacencies in enumerate(G.adjacency()):\n",
    "    node_adjacencies.append(len(adjacencies[1]))\n",
    "    node_text.append('# of connections: '+str(len(adjacencies[1])))\n",
    "\n",
    "#node_trace.marker.color = node_adjacencies\n",
    "node_trace.marker.size = node_adjacencies\n",
    "#node_trace.text = node_text\n",
    "\n",
    "axis=dict(showline=False, # hide axis line, grid, ticklabels and  title\n",
    "          zeroline=False,\n",
    "          showgrid=False,\n",
    "          showticklabels=False,\n",
    "          title=''\n",
    "          )\n",
    "\n",
    "width=800\n",
    "height=800\n",
    "layout=go.Layout(title= \"Coauthorship network of scientists working on network theory and experiment\"+\\\n",
    "              \"<br> Data source: <a href='https://networkdata.ics.uci.edu/data.php?id=11'> [1]</a>\",\n",
    "    font= dict(size=12),\n",
    "    showlegend=False,\n",
    "    autosize=False,\n",
    "    width=width,\n",
    "    height=height,\n",
    "    xaxis=go.layout.XAxis(axis),\n",
    "    yaxis=go.layout.YAxis(axis),\n",
    "    margin=go.layout.Margin(\n",
    "        l=40,\n",
    "        r=40,\n",
    "        b=85,\n",
    "        t=100,\n",
    "    ),\n",
    "    hovermode='closest',\n",
    "    annotations=[\n",
    "           dict(\n",
    "           showarrow=False,\n",
    "            text='This igraph.Graph has the Kamada-Kawai layout',\n",
    "            xref='paper',\n",
    "            yref='paper',\n",
    "            x=0,\n",
    "            y=-0.1,\n",
    "            xanchor='left',\n",
    "            yanchor='bottom',\n",
    "            font=dict(\n",
    "            size=14\n",
    "            )\n",
    "            )\n",
    "        ]\n",
    "    )\n",
    "\n",
    "annot=\"This networkx.Graph has the Fruchterman-Reingold layout<br>Code:\"+\\\n",
    "\"<a href='http://nbviewer.ipython.org/gist/empet/07ea33b2e4e0b84193bd'> [2]</a>\"\n",
    "\n",
    "data1=[edge_trace, node_trace]\n",
    "fig1=go.Figure(data=data1, layout=layout)\n",
    "fig1['layout']['annotations'][0]['text']=annot\n",
    "fig1.show()\n",
    "#py.iplot(fig1, filename='Coautorship-network-nx')"
   ]
  },
  {
   "cell_type": "code",
   "execution_count": null,
   "id": "oriental-anxiety",
   "metadata": {},
   "outputs": [],
   "source": [
    "\n"
   ]
  },
  {
   "cell_type": "code",
   "execution_count": null,
   "id": "separated-qualification",
   "metadata": {},
   "outputs": [],
   "source": [
    "node_text"
   ]
  },
  {
   "cell_type": "code",
   "execution_count": null,
   "id": "suspended-heavy",
   "metadata": {},
   "outputs": [],
   "source": [
    "node_adjacencies"
   ]
  },
  {
   "cell_type": "markdown",
   "id": "broadband-johnson",
   "metadata": {},
   "source": [
    "# Clustering"
   ]
  },
  {
   "cell_type": "code",
   "execution_count": null,
   "id": "hispanic-shift",
   "metadata": {},
   "outputs": [],
   "source": [
    "# https://stackoverflow.com/questions/62902871/how-can-i-cluster-a-graph-g-created-in-networkx\n",
    "# https://towardsdatascience.com/node2vec-embeddings-for-graph-data-32a866340fef\n",
    "# https://github.com/eliorc/Medium/blob/master/Nod2Vec-FIFA17-Example.ipynb\n",
    "\n",
    "\"\"\"\n",
    "Step 1: get the embedding of each node in the graph. \n",
    "That means you need to get a continuous vector representation for each node. \n",
    "You can use graph embedding methods like node2vec, deepwalk, etc to obtain the embedding. \n",
    "Note that such methods preserve the structural similarity between the nodes of a graph in the vector representation \n",
    "(embedding space). The following example shows how you can do that.\n",
    "\"\"\"\n",
    "\n",
    "import networkx as nx\n",
    "G=nx.Graph();\n",
    "G=nx.read_edgelist(\"edges.txt\") # edges.txt contains the edge list of your graph\n",
    "\n",
    "# help to draw https://networkx.github.io/documentation/networkx-1.9/examples/drawing/labels_and_colors.html\n",
    "nx.draw(G,with_labels = True,node_color='b',node_size=500);\n",
    "\n",
    "from node2vec import Node2Vec\n",
    "# Generate walks\n",
    "node2vec = Node2Vec(G, dimensions=2, walk_length=20, num_walks=10,workers=4)\n",
    "# Learn embeddings \n",
    "model = node2vec.fit(window=10, min_count=1)\n",
    "#model.wv.most_similar('1')\n",
    "model.wv.save_word2vec_format(\"embedding.emb\") #save the embedding in file embedding.emb\n",
    "\n",
    "\n",
    "\"\"\"\n",
    "Step 2: apply the clustering method. \n",
    "Once you get vector representation of the nodes, you can cluster the nodes based on those representations. \n",
    "See the example below.\n",
    "\"\"\"\n",
    "\n",
    "from sklearn.cluster import KMeans\n",
    "import numpy as np\n",
    "\n",
    "\n",
    "X = np.loadtxt(\"embedding.emb\", skiprows=1) # load the embedding of the nodes of the graph\n",
    "#print(X)\n",
    "# sort the embedding based on node index in the first column in X\n",
    "X=X[X[:,0].argsort()]; \n",
    "#print(X)\n",
    "Z=X[0:X.shape[0],1:X.shape[1]]; # remove the node index from X and save in Z\n",
    "\n",
    "kmeans = KMeans(n_clusters=2, random_state=0).fit(Z) # apply kmeans on Z\n",
    "labels=kmeans.labels_  # get the cluster labels of the nodes.\n",
    "print(labels)\n"
   ]
  }
 ],
 "metadata": {
  "kernelspec": {
   "display_name": "Python 3",
   "language": "python",
   "name": "python3"
  },
  "language_info": {
   "codemirror_mode": {
    "name": "ipython",
    "version": 3
   },
   "file_extension": ".py",
   "mimetype": "text/x-python",
   "name": "python",
   "nbconvert_exporter": "python",
   "pygments_lexer": "ipython3",
   "version": "3.6.3"
  }
 },
 "nbformat": 4,
 "nbformat_minor": 5
}
