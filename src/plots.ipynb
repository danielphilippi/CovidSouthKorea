{
 "cells": [
  {
   "cell_type": "code",
   "execution_count": null,
   "id": "floral-funds",
   "metadata": {},
   "outputs": [],
   "source": [
    "import pandas as pd\n",
    "import numpy as np\n",
    "import plotly.graph_objects as go\n",
    "import networkx as nx\n",
    "\n",
    "\n",
    "%config Completer.use_jedi = False"
   ]
  },
  {
   "cell_type": "code",
   "execution_count": null,
   "id": "indian-palmer",
   "metadata": {},
   "outputs": [],
   "source": [
    "# definitions \n",
    "\n",
    "inpath_skorea = \"../data/coronavirusdataset/\""
   ]
  },
  {
   "cell_type": "code",
   "execution_count": null,
   "id": "intellectual-airfare",
   "metadata": {},
   "outputs": [],
   "source": [
    "# read data\n",
    "#path = 'kaggle/input/coronavirusdataset/'\n",
    "path = inpath_skorea\n",
    "\n",
    "case = p_info = pd.read_csv(path+'Case.csv')\n",
    "#p_route = pd.read_csv(path+'PatientRoute.csv')\n",
    "time = pd.read_csv(path+'Time.csv')\n",
    "t_age = pd.read_csv(path+'TimeAge.csv')\n",
    "t_gender = pd.read_csv(path+'TimeGender.csv')\n",
    "t_provin = pd.read_csv(path+'TimeProvince.csv')\n",
    "region = pd.read_csv(path+'Region.csv')\n",
    "weather = pd.read_csv(path+'Weather.csv')\n",
    "search = pd.read_csv(path+'SearchTrend.csv')\n",
    "floating = pd.read_csv(path+'SeoulFloating.csv')\n",
    "policy = pd.read_csv(path+'Policy.csv')"
   ]
  },
  {
   "cell_type": "markdown",
   "id": "congressional-feelings",
   "metadata": {},
   "source": [
    "# further plots\n",
    "- waterfall: \n",
    "    - patients\n",
    "    - ... with tracking\n",
    "    -"
   ]
  },
  {
   "cell_type": "code",
   "execution_count": null,
   "id": "former-testimony",
   "metadata": {},
   "outputs": [],
   "source": [
    "case"
   ]
  },
  {
   "cell_type": "code",
   "execution_count": null,
   "id": "capable-vienna",
   "metadata": {},
   "outputs": [],
   "source": []
  },
  {
   "cell_type": "code",
   "execution_count": null,
   "id": "copyrighted-infection",
   "metadata": {},
   "outputs": [],
   "source": [
    "p_info = pd.read_csv(path+'PatientInfo.csv')\n",
    "p_info.confirmed_date = pd.to_datetime(p_info.confirmed_date)\n",
    "print(f'dropping {p_info.confirmed_date.isna().sum()} rows (missing confirmed date)')\n",
    "p_info = p_info[~p_info.confirmed_date.isna()]\n",
    "p_info\n"
   ]
  },
  {
   "cell_type": "code",
   "execution_count": null,
   "id": "agricultural-eagle",
   "metadata": {},
   "outputs": [],
   "source": [
    "p_info['days_since_start'] = (p_info.confirmed_date - p_info.confirmed_date.min()).dt.days\n",
    "p_info.days_since_start.isna().sum()\n",
    "p_info.days_since_start"
   ]
  },
  {
   "cell_type": "code",
   "execution_count": null,
   "id": "employed-treasury",
   "metadata": {},
   "outputs": [],
   "source": [
    "p_info[~p_info.infected_by.isna()].infection_case.value_counts()"
   ]
  },
  {
   "cell_type": "code",
   "execution_count": null,
   "id": "charming-alfred",
   "metadata": {},
   "outputs": [],
   "source": [
    "labels = list(pos.keys())\n",
    "\n",
    "#p_info[labels]\n",
    "\n",
    "[(l, edges.loc[edges.target  == l,:].days_since_start.values) for l in labels]\n",
    "\n",
    "days_dim = []\n",
    "for l in labels: \n",
    "    days = edges.loc[edges.target  == l,:].days_since_start.values\n",
    "    if len(days) == 1: \n",
    "        days_dim.append(days[0])\n",
    "    elif len(days) > 1: \n",
    "        days_dim.append('Error: len > 1')\n",
    "    elif len(days) == 0: \n",
    "        days_dim.append(np.nan)\n",
    "    else: \n",
    "        raise Exception()\n",
    "\n",
    "\n",
    "    \n",
    "\n"
   ]
  },
  {
   "cell_type": "code",
   "execution_count": null,
   "id": "occasional-switzerland",
   "metadata": {},
   "outputs": [],
   "source": [
    "#edges.loc[edges.target == 1000000006,:].days_since_start\n",
    "\n",
    "tmp = edges.loc[edges.target == 1000000006,:]['days_since_start'].values\n",
    "len(tmp)"
   ]
  },
  {
   "cell_type": "code",
   "execution_count": null,
   "id": "parallel-alias",
   "metadata": {},
   "outputs": [],
   "source": [
    "days_dim"
   ]
  },
  {
   "cell_type": "code",
   "execution_count": null,
   "id": "sitting-treatment",
   "metadata": {},
   "outputs": [],
   "source": [
    "p_info[p_info.infected_by == '2000000205']"
   ]
  },
  {
   "cell_type": "code",
   "execution_count": null,
   "id": "earlier-adrian",
   "metadata": {},
   "outputs": [],
   "source": [
    "p_info.state.value_counts()"
   ]
  },
  {
   "cell_type": "code",
   "execution_count": null,
   "id": "human-conducting",
   "metadata": {
    "scrolled": false
   },
   "outputs": [],
   "source": [
    "def get_edges_from_p_info(p_info): \n",
    "    edges = pd.DataFrame({\n",
    "        'source': p_info.infected_by, \n",
    "        'target': p_info.patient_id, \n",
    "        'days_since_start': p_info.days_since_start\n",
    "    })\n",
    "    \n",
    "\n",
    "    edges = edges[~edges.source.isna()]\n",
    "    edges.reset_index(drop=True, inplace=True)\n",
    "\n",
    "\n",
    "    # filter invalid source ids (3)\n",
    "    len('2000000205')\n",
    "    # set([i if len(s) != 10 for i, s in enumerate(edgelist.source)])\n",
    "    f = [len(s) == 10 for s in edges.source]\n",
    "    edges = edges.loc[f,:]\n",
    "\n",
    "    # cast source to int\n",
    "    edges.source = edges.source.astype(int)\n",
    "    return edges\n",
    "\n",
    "\n",
    "def plot_network(G, pos): \n",
    "\n",
    "    #N = G.number_of_nodes\n",
    "    #E=[e.tuple for e in G.edges]# list of edges\n",
    "    labels = list(pos.keys())\n",
    "\n",
    "    #https://plotly.com/python/v3/igraph-networkx-comparison/\n",
    "\n",
    "    #Xv=[pos[k][0] for k in range(N)]\n",
    "    #Yv=[pos[k][1] for k in range(N)]\n",
    "\n",
    "    Xv=[p[0] for p in pos.values()]\n",
    "    Yv=[p[1] for p in pos.values()]\n",
    "\n",
    "    Xed=[]\n",
    "    Yed=[]\n",
    "    for edge in G.edges:\n",
    "        Xed+=[pos[edge[0]][0],pos[edge[1]][0], None]\n",
    "        Yed+=[pos[edge[0]][1],pos[edge[1]][1], None]\n",
    "\n",
    "    edge_trace=go.Scatter(x=Xed,\n",
    "                   y=Yed,\n",
    "                   mode='lines',\n",
    "                   line=dict(color='rgb(210,210,210)', width=1),\n",
    "                   hoverinfo='none'\n",
    "                   )\n",
    "\n",
    "\n",
    "    days_dim = []\n",
    "    for l in labels: \n",
    "        days = edges.loc[edges.target  == l,:].days_since_start.values\n",
    "        if len(days) == 1: \n",
    "            days_dim.append(days[0])\n",
    "        elif len(days) > 1: \n",
    "            days_dim.append('Error: len > 1')\n",
    "        elif len(days) == 0: \n",
    "            days_dim.append(np.nan)\n",
    "        else: \n",
    "            raise Exception()\n",
    "        \n",
    "        \n",
    "\n",
    "    node_trace=go.Scatter(\n",
    "        x=Xv,\n",
    "        y=Yv,\n",
    "        mode='markers',\n",
    "        name='net',\n",
    "        marker=dict(showscale=True,\n",
    "            symbol='circle-dot',\n",
    "            size=5,\n",
    "            color='#6959CD',\n",
    "            line=dict(color='rgb(50,50,50)', width=0.5)\n",
    "        ),\n",
    "        text=labels, \n",
    "        hoverinfo='text'\n",
    "    )\n",
    "\n",
    "    node_adjacencies = []\n",
    "    node_text = []\n",
    "    for node, adjacencies in enumerate(G.adjacency()):\n",
    "        node_adjacencies.append(len(adjacencies[1])+2)\n",
    "        node_text.append('# of connections: '+str(len(adjacencies[1])))\n",
    "\n",
    "    node_trace.marker.color = days_dim\n",
    "    node_trace.marker.size = node_adjacencies\n",
    "    #node_trace.text = node_text\n",
    "\n",
    "    axis=dict(showline=False, # hide axis line, grid, ticklabels and  title\n",
    "              zeroline=False,\n",
    "              showgrid=False,\n",
    "              showticklabels=False,\n",
    "              title=''\n",
    "              )\n",
    "\n",
    "    width=800\n",
    "    height=800\n",
    "    layout=go.Layout(title= \"Coauthorship network of scientists working on network theory and experiment\"+\\\n",
    "                  \"<br> Data source: <a href='https://networkdata.ics.uci.edu/data.php?id=11'> [1]</a>\",\n",
    "        font= dict(size=12),\n",
    "        showlegend=False,\n",
    "        autosize=False,\n",
    "        width=width,\n",
    "        height=height,\n",
    "        xaxis=go.layout.XAxis(axis),\n",
    "        yaxis=go.layout.YAxis(axis),\n",
    "        margin=go.layout.Margin(\n",
    "            l=40,\n",
    "            r=40,\n",
    "            b=85,\n",
    "            t=100,\n",
    "        ),\n",
    "        hovermode='closest',\n",
    "        annotations=[\n",
    "               dict(\n",
    "               showarrow=False,\n",
    "                text='This igraph.Graph has the Kamada-Kawai layout',\n",
    "                xref='paper',\n",
    "                yref='paper',\n",
    "                x=0,\n",
    "                y=-0.1,\n",
    "                xanchor='left',\n",
    "                yanchor='bottom',\n",
    "                font=dict(\n",
    "                size=14\n",
    "                )\n",
    "                )\n",
    "            ]\n",
    "        )\n",
    "\n",
    "    annot=\"This networkx.Graph has the Fruchterman-Reingold layout<br>Code:\"+\\\n",
    "    \"<a href='http://nbviewer.ipython.org/gist/empet/07ea33b2e4e0b84193bd'> [2]</a>\"\n",
    "\n",
    "    data1=[edge_trace, node_trace]\n",
    "    fig1=go.Figure(data=data1, layout=layout)\n",
    "    fig1['layout']['annotations'][0]['text']=annot\n",
    "\n",
    "    return fig1\n",
    "\n"
   ]
  },
  {
   "cell_type": "code",
   "execution_count": null,
   "id": "partial-rough",
   "metadata": {},
   "outputs": [],
   "source": [
    "\"\"\"\n",
    "https://networkx.org/documentation/stable/reference/generated/networkx.convert_matrix.from_pandas_edgelist.html\n",
    "\"\"\"\n",
    "\n",
    "if True:\n",
    "    edges = get_edges_from_p_info(p_info)\n",
    "else: \n",
    "    edges = pd.DataFrame(\n",
    "        {\n",
    "            \"source\": [0, 1, 2],\n",
    "            \"target\": [2, 2, 3]\n",
    "            ,\n",
    "            \"weight\": [3, 4, 5],\n",
    "            \"color\": [\"red\", \"blue\", \"blue\"],\n",
    "        }\n",
    "    )\n",
    "    \n",
    "\n",
    "\n",
    "G = nx.from_pandas_edgelist(edges, edge_attr=True)\n",
    "\n",
    "print(f'Size: {G.size()} | No nodes: {G.number_of_nodes()} | No edges: {G.number_of_edges()}')\n",
    "\n",
    "#https://stackoverflow.com/questions/52400380/assign-edge-weights-to-a-networkx-graph-using-pandas-dataframe\n",
    "#pos = nx.kamada_kawai_layout(G)\n",
    "pos = nx.spring_layout(G, seed=444)\n",
    "\n"
   ]
  },
  {
   "cell_type": "code",
   "execution_count": null,
   "id": "temporal-probe",
   "metadata": {},
   "outputs": [],
   "source": []
  },
  {
   "cell_type": "code",
   "execution_count": null,
   "id": "weird-gossip",
   "metadata": {},
   "outputs": [],
   "source": [
    "\n",
    "fig = plot_network(G, pos)\n",
    "fig.show()\n",
    "#py.iplot(fig1, filename='Coautorship-network-nx')\n"
   ]
  },
  {
   "cell_type": "code",
   "execution_count": null,
   "id": "vocal-following",
   "metadata": {},
   "outputs": [],
   "source": [
    "edges.source.value_counts()"
   ]
  },
  {
   "cell_type": "code",
   "execution_count": null,
   "id": "employed-special",
   "metadata": {},
   "outputs": [],
   "source": [
    "edges.dtypes"
   ]
  },
  {
   "cell_type": "code",
   "execution_count": null,
   "id": "organizational-istanbul",
   "metadata": {},
   "outputs": [],
   "source": [
    "\n",
    "#nx.from_pandas_adjacency()\n",
    "\n",
    "def build_network(df): \n",
    "    pass\n",
    "\n"
   ]
  },
  {
   "cell_type": "code",
   "execution_count": null,
   "id": "monetary-thompson",
   "metadata": {},
   "outputs": [],
   "source": [
    "dict(G.adjacency())#[2000000205]"
   ]
  },
  {
   "cell_type": "code",
   "execution_count": null,
   "id": "magnetic-qatar",
   "metadata": {
    "scrolled": true
   },
   "outputs": [],
   "source": [
    "#G = nx.random_geometric_graph(200, 0.125)\n",
    "\n",
    "for i, edge in enumerate(G.edges()): \n",
    "    print(i, edge)\n",
    "    print(i,  G.nodes[edge[0]])\n",
    "    print(i,  G.nodes[edge[1]])\n",
    "\n",
    "    if i > 10: \n",
    "        break \n"
   ]
  },
  {
   "cell_type": "code",
   "execution_count": null,
   "id": "virtual-longitude",
   "metadata": {},
   "outputs": [],
   "source": []
  },
  {
   "cell_type": "code",
   "execution_count": null,
   "id": "certain-jurisdiction",
   "metadata": {},
   "outputs": [],
   "source": [
    "node_text"
   ]
  },
  {
   "cell_type": "code",
   "execution_count": null,
   "id": "upset-postcard",
   "metadata": {},
   "outputs": [],
   "source": [
    "node_adjacencies"
   ]
  },
  {
   "cell_type": "markdown",
   "id": "contrary-yeast",
   "metadata": {},
   "source": [
    "# Clustering"
   ]
  },
  {
   "cell_type": "code",
   "execution_count": null,
   "id": "common-desert",
   "metadata": {},
   "outputs": [],
   "source": [
    "# https://stackoverflow.com/questions/62902871/how-can-i-cluster-a-graph-g-created-in-networkx\n",
    "# https://towardsdatascience.com/node2vec-embeddings-for-graph-data-32a866340fef\n",
    "# https://github.com/eliorc/Medium/blob/master/Nod2Vec-FIFA17-Example.ipynb\n",
    "\n",
    "\"\"\"\n",
    "Step 1: get the embedding of each node in the graph. \n",
    "That means you need to get a continuous vector representation for each node. \n",
    "You can use graph embedding methods like node2vec, deepwalk, etc to obtain the embedding. \n",
    "Note that such methods preserve the structural similarity between the nodes of a graph in the vector representation \n",
    "(embedding space). The following example shows how you can do that.\n",
    "\"\"\"\n",
    "\n",
    "import networkx as nx\n",
    "G=nx.Graph();\n",
    "G=nx.read_edgelist(\"edges.txt\") # edges.txt contains the edge list of your graph\n",
    "\n",
    "# help to draw https://networkx.github.io/documentation/networkx-1.9/examples/drawing/labels_and_colors.html\n",
    "nx.draw(G,with_labels = True,node_color='b',node_size=500);\n",
    "\n",
    "from node2vec import Node2Vec\n",
    "# Generate walks\n",
    "node2vec = Node2Vec(G, dimensions=2, walk_length=20, num_walks=10,workers=4)\n",
    "# Learn embeddings \n",
    "model = node2vec.fit(window=10, min_count=1)\n",
    "#model.wv.most_similar('1')\n",
    "model.wv.save_word2vec_format(\"embedding.emb\") #save the embedding in file embedding.emb\n",
    "\n",
    "\n",
    "\"\"\"\n",
    "Step 2: apply the clustering method. \n",
    "Once you get vector representation of the nodes, you can cluster the nodes based on those representations. \n",
    "See the example below.\n",
    "\"\"\"\n",
    "\n",
    "from sklearn.cluster import KMeans\n",
    "import numpy as np\n",
    "\n",
    "\n",
    "X = np.loadtxt(\"embedding.emb\", skiprows=1) # load the embedding of the nodes of the graph\n",
    "#print(X)\n",
    "# sort the embedding based on node index in the first column in X\n",
    "X=X[X[:,0].argsort()]; \n",
    "#print(X)\n",
    "Z=X[0:X.shape[0],1:X.shape[1]]; # remove the node index from X and save in Z\n",
    "\n",
    "kmeans = KMeans(n_clusters=2, random_state=0).fit(Z) # apply kmeans on Z\n",
    "labels=kmeans.labels_  # get the cluster labels of the nodes.\n",
    "print(labels)\n"
   ]
  }
 ],
 "metadata": {
  "kernelspec": {
   "display_name": "Python 3",
   "language": "python",
   "name": "python3"
  },
  "language_info": {
   "codemirror_mode": {
    "name": "ipython",
    "version": 3
   },
   "file_extension": ".py",
   "mimetype": "text/x-python",
   "name": "python",
   "nbconvert_exporter": "python",
   "pygments_lexer": "ipython3",
   "version": "3.6.3"
  }
 },
 "nbformat": 4,
 "nbformat_minor": 5
}
