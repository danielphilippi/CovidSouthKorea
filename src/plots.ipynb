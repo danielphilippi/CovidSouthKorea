{
 "cells": [
  {
   "cell_type": "code",
   "execution_count": null,
   "id": "cross-circular",
   "metadata": {},
   "outputs": [],
   "source": [
    "import os\n",
    "\n",
    "import pandas as pd\n",
    "import numpy as np\n",
    "import plotly.graph_objects as go\n",
    "import networkx as nx\n",
    "\n",
    "import matplotlib.pyplot as plt\n",
    "\n",
    "\n",
    "\n",
    "%config Completer.use_jedi = False"
   ]
  },
  {
   "cell_type": "code",
   "execution_count": null,
   "id": "surrounded-school",
   "metadata": {},
   "outputs": [],
   "source": [
    "# definitions \n",
    "\n",
    "inpath_skorea = \"../data/coronavirusdataset/\"\n",
    "\n",
    "plots_path = \"../plots/\"\n",
    "if not os.path.exists(plots_path): os.mkdir(plots_path)"
   ]
  },
  {
   "cell_type": "code",
   "execution_count": null,
   "id": "informational-fellowship",
   "metadata": {},
   "outputs": [],
   "source": [
    "# read data\n",
    "#path = 'kaggle/input/coronavirusdataset/'\n",
    "path = inpath_skorea\n",
    "\n",
    "case = p_info = pd.read_csv(path+'Case.csv')\n",
    "time = pd.read_csv(path+'Time.csv')\n",
    "t_age = pd.read_csv(path+'TimeAge.csv')\n",
    "t_gender = pd.read_csv(path+'TimeGender.csv')\n",
    "t_provin = pd.read_csv(path+'TimeProvince.csv')\n",
    "region = pd.read_csv(path+'Region.csv')\n",
    "weather = pd.read_csv(path+'Weather.csv')\n",
    "search = pd.read_csv(path+'SearchTrend.csv')\n",
    "floating = pd.read_csv(path+'SeoulFloating.csv')\n",
    "policy = pd.read_csv(path+'Policy.csv')"
   ]
  },
  {
   "cell_type": "markdown",
   "id": "asian-times",
   "metadata": {},
   "source": [
    "# further plots\n",
    "- waterfall: \n",
    "    - patients\n",
    "    - ... with tracking\n",
    "    -"
   ]
  },
  {
   "cell_type": "code",
   "execution_count": null,
   "id": "developmental-muscle",
   "metadata": {},
   "outputs": [],
   "source": [
    "case"
   ]
  },
  {
   "cell_type": "code",
   "execution_count": null,
   "id": "organic-substance",
   "metadata": {},
   "outputs": [],
   "source": [
    "p_info = pd.read_csv(path+'PatientInfo.csv')\n",
    "p_info.confirmed_date = pd.to_datetime(p_info.confirmed_date)\n",
    "print(f'dropping {p_info.confirmed_date.isna().sum()} rows (missing confirmed date)')\n",
    "p_info = p_info[~p_info.confirmed_date.isna()]\n",
    "\n",
    "print(f'dropping {p_info.infected_by.isna().sum()} rows (missing confirmed date)')\n",
    "p_info = p_info[~p_info.infected_by.isna()]\n",
    "\n",
    "p_info\n"
   ]
  },
  {
   "cell_type": "code",
   "execution_count": null,
   "id": "pursuant-weather",
   "metadata": {},
   "outputs": [],
   "source": [
    "p_info.info()"
   ]
  },
  {
   "cell_type": "code",
   "execution_count": null,
   "id": "greek-strengthening",
   "metadata": {},
   "outputs": [],
   "source": [
    "p_info['days_since_start'] = (p_info.confirmed_date - p_info.confirmed_date.min()).dt.days\n",
    "p_info.days_since_start.isna().sum()\n",
    "p_info.days_since_start"
   ]
  },
  {
   "cell_type": "code",
   "execution_count": null,
   "id": "contrary-exhaust",
   "metadata": {},
   "outputs": [],
   "source": [
    "p_info[~p_info.infected_by.isna()].infection_case.value_counts()"
   ]
  },
  {
   "cell_type": "code",
   "execution_count": null,
   "id": "appropriate-treatment",
   "metadata": {},
   "outputs": [],
   "source": []
  },
  {
   "cell_type": "code",
   "execution_count": null,
   "id": "little-kitchen",
   "metadata": {},
   "outputs": [],
   "source": [
    "p_info[p_info.infected_by == '2000000205']"
   ]
  },
  {
   "cell_type": "code",
   "execution_count": null,
   "id": "affiliated-hormone",
   "metadata": {},
   "outputs": [],
   "source": [
    "p_info.state.value_counts()"
   ]
  },
  {
   "cell_type": "code",
   "execution_count": null,
   "id": "global-motion",
   "metadata": {
    "scrolled": false
   },
   "outputs": [],
   "source": [
    "def get_edges_from_p_info(p_info): \n",
    "    edges = pd.DataFrame({\n",
    "        'source': p_info.infected_by, \n",
    "        'target': p_info.patient_id, \n",
    "        'days_since_start': p_info.days_since_start, \n",
    "        'contact_number': p_info.contact_number\n",
    "    })\n",
    "    \n",
    "\n",
    "    edges = edges[~edges.source.isna()]\n",
    "    edges.reset_index(drop=True, inplace=True)\n",
    "\n",
    "\n",
    "    # filter invalid source ids (3)\n",
    "    len('2000000205')\n",
    "    # set([i if len(s) != 10 for i, s in enumerate(edgelist.source)])\n",
    "    f = [len(s) == 10 for s in edges.source]\n",
    "    edges = edges.loc[f,:]\n",
    "\n",
    "    # cast source to int\n",
    "    edges.source = edges.source.astype(int)\n",
    "    return edges\n",
    "\n",
    "\n",
    "def describe_graph(G):   \n",
    "    print(f'Size: {G.size()} | No nodes: {G.number_of_nodes()} | No edges: {G.number_of_edges()}')\n",
    "   \n"
   ]
  },
  {
   "cell_type": "code",
   "execution_count": null,
   "id": "separate-right",
   "metadata": {},
   "outputs": [],
   "source": [
    "\"\"\"\n",
    "https://networkx.org/documentation/stable/reference/generated/networkx.convert_matrix.from_pandas_edgelist.html\n",
    "\"\"\"\n",
    "\n",
    "if True:\n",
    "    edges = get_edges_from_p_info(p_info)\n",
    "else: \n",
    "    edges = pd.DataFrame(\n",
    "        {\n",
    "            \"source\": [0, 1, 2],\n",
    "            \"target\": [2, 2, 3]\n",
    "            ,\n",
    "            \"weight\": [3, 4, 5],\n",
    "            \"color\": [\"red\", \"blue\", \"blue\"],\n",
    "        }\n",
    "    )\n",
    "    \n",
    "\n",
    "# overview graph types\n",
    "# https://networkx.org/documentation/stable/reference/classes/index.html\n",
    "G = nx.from_pandas_edgelist(edges, edge_attr=True, create_using=nx.Graph)\n",
    "\n",
    " \n",
    "describe_graph(G)\n"
   ]
  },
  {
   "cell_type": "code",
   "execution_count": null,
   "id": "enclosed-compatibility",
   "metadata": {},
   "outputs": [],
   "source": [
    "edges.contact_number.isna().sum()\n"
   ]
  },
  {
   "cell_type": "code",
   "execution_count": null,
   "id": "legendary-kitty",
   "metadata": {},
   "outputs": [],
   "source": [
    "\n",
    "\n",
    "# https://networkx.org/documentation/stable//reference/drawing.html#module-networkx.drawing.layout\n",
    "#https://stackoverflow.com/questions/52400380/assign-edge-weights-to-a-networkx-graph-using-pandas-dataframe\n",
    "#pos = nx.kamada_kawai_layout(G)\n",
    "pos = nx.spring_layout(G, seed=444)\n",
    "\n"
   ]
  },
  {
   "cell_type": "code",
   "execution_count": null,
   "id": "located-library",
   "metadata": {},
   "outputs": [],
   "source": [
    "def prepare_edge_trace(G, pos): \n",
    "\n",
    "    Xed=[]\n",
    "    Yed=[]\n",
    "    for edge in G.edges:\n",
    "        Xed+=[pos[edge[0]][0],pos[edge[1]][0], None]\n",
    "        Yed+=[pos[edge[0]][1],pos[edge[1]][1], None]\n",
    "        \n",
    "    return Xed, Yed\n",
    "\n",
    "\n",
    "def prepare_node_trace(G, pos): \n",
    "    labels = list(pos.keys())\n",
    "\n",
    "    Xv=[p[0] for p in pos.values()]\n",
    "    Yv=[p[1] for p in pos.values()]\n",
    "    \n",
    "    return Xv, Yv, labels\n",
    "\n",
    "\n",
    "def add_target_node_dimension(labels, edges, dim = 'days_since_start'):\n",
    "    days_dim = []\n",
    "    for l in labels: \n",
    "        days = edges.loc[edges.target  == l,:][dim].values\n",
    "        if len(days) == 1: \n",
    "            days_dim.append(days[0])\n",
    "        elif len(days) > 1: \n",
    "            raise Exception('Error: len > 1')\n",
    "        elif len(days) == 0: \n",
    "            days_dim.append(np.nan)\n",
    "        else: \n",
    "            raise Exception()\n",
    "    return days_dim\n",
    "            \n",
    "            \n",
    "def add_node_adjacencies(G): \n",
    "    \n",
    "    node_adjacencies = []\n",
    "    node_text = []\n",
    "    for node, adjacencies in enumerate(G.adjacency()):\n",
    "        node_adjacencies.append(len(adjacencies[1])+2)\n",
    "        node_text.append('# of connections: '+str(len(adjacencies[1])))\n",
    "    \n",
    "    return node_adjacencies, node_text\n",
    "\n",
    "\n",
    "def build_layout_networkgraph(height, width): \n",
    "    axis=dict(showline=False, # hide axis line, grid, ticklabels and  title\n",
    "              zeroline=False,\n",
    "              showgrid=False,\n",
    "              showticklabels=False,\n",
    "              title=''\n",
    "              )\n",
    "\n",
    "    width=width\n",
    "    height=height\n",
    "    \n",
    "    \n",
    "    layout=go.Layout(\n",
    "        title= None,\n",
    "        font= dict(size=12),\n",
    "        showlegend=False,\n",
    "        autosize=False,\n",
    "        width=width,\n",
    "        height=height,\n",
    "        paper_bgcolor='rgba(0,0,0,0)',\n",
    "        plot_bgcolor='rgba(0,0,0,0)',\n",
    "        xaxis=go.layout.XAxis(axis),\n",
    "        yaxis=go.layout.YAxis(axis),\n",
    "        margin=go.layout.Margin(\n",
    "            l=40,\n",
    "            r=40,\n",
    "            b=85,\n",
    "            t=100,\n",
    "        ),\n",
    "        hovermode='closest',\n",
    "        annotations=[\n",
    "               dict(\n",
    "               showarrow=False,\n",
    "                text='',\n",
    "                xref='paper',\n",
    "                yref='paper',\n",
    "                x=0,\n",
    "                y=-0.1,\n",
    "                xanchor='left',\n",
    "                yanchor='bottom',\n",
    "                font=dict(\n",
    "                size=14\n",
    "                )\n",
    "                )\n",
    "            ]\n",
    "        )\n",
    "    return layout\n",
    "\n",
    "\n",
    "def plot_network(G, pos, edges, height=800, width=800):\n",
    "    \"\"\"\n",
    "    https://plotly.com/python/v3/igraph-networkx-comparison/\n",
    "    \"\"\"\n",
    "\n",
    "    # ------------------------------------edge_trace------------------------------------\n",
    "    Xed, Yed = prepare_edge_trace(G, pos)\n",
    "    edge_trace = go.Scatter(x=Xed,\n",
    "                   y=Yed,\n",
    "                   mode='lines',\n",
    "                   line=dict(color='rgb(210,210,210)', width=1),\n",
    "                   hoverinfo='none'\n",
    "                   )\n",
    "\n",
    "    # ------------------------------------node_trace------------------------------------\n",
    "\n",
    "    \"\"\"\n",
    "    https://plotly.com/python/network-graphs/\n",
    "    \"\"\"\n",
    "    \n",
    "    Xv, Yv, labels = prepare_node_trace(G, pos)\n",
    "    node_trace=go.Scatter(\n",
    "        x=Xv,\n",
    "        y=Yv,\n",
    "        mode='markers',\n",
    "        name='net',\n",
    "        marker=dict(\n",
    "            showscale=True,\n",
    "            colorscale='Oranges',\n",
    "            reversescale=True,\n",
    "            symbol='circle-dot',\n",
    "            size=5,\n",
    "            color='#6959CD',\n",
    "            colorbar=dict(\n",
    "                thickness=15,\n",
    "                title='Days since day0',\n",
    "                xanchor='left',\n",
    "                titleside='right'),\n",
    "            line=dict(color='rgb(50,50,50)', width=0.5)\n",
    "        ),\n",
    "        text=labels, \n",
    "        hoverinfo='text'\n",
    "    )\n",
    "\n",
    "\n",
    "\n",
    "    node_adjacencies, node_text = add_node_adjacencies(G)\n",
    "    days_dim = add_target_node_dimension(labels, edges, dim = 'days_since_start')\n",
    "    node_trace.marker.color = days_dim\n",
    "    node_trace.marker.size = node_adjacencies\n",
    "    #node_trace.text = node_text\n",
    "\n",
    "    # ------------------------------------build figure------------------------------------\n",
    "\n",
    "    annot=\"\"\n",
    "\n",
    "    data1=[edge_trace, node_trace]\n",
    "    fig1=go.Figure(data=data1, layout=build_layout_networkgraph(height, width))\n",
    "    fig1['layout']['annotations'][0]['text']=annot\n",
    "\n",
    "    return fig1\n"
   ]
  },
  {
   "cell_type": "code",
   "execution_count": null,
   "id": "other-journalist",
   "metadata": {},
   "outputs": [],
   "source": [
    "\n",
    "fig = plot_network(G, pos, edges)\n",
    "fig.show()\n",
    "fig.write_image(os.path.join(plots_path, \"infection_network.svg\"))\n",
    "fig.write_image(os.path.join(plots_path, \"infection_network.png\"), scale=5)\n",
    "\n",
    "\n",
    "#py.iplot(fig1, filename='Coautorship-network-nx')\n"
   ]
  },
  {
   "cell_type": "markdown",
   "id": "charitable-louis",
   "metadata": {},
   "source": [
    "## largest compontents\n",
    "\n",
    "https://networkx.org/documentation/stable//reference/algorithms/generated/networkx.algorithms.components.connected_components.html\n"
   ]
  },
  {
   "cell_type": "code",
   "execution_count": null,
   "id": "diverse-taylor",
   "metadata": {},
   "outputs": [],
   "source": [
    "comps = {len(c):c for c in sorted(nx.connected_components(G), key=len, reverse=True)}\n",
    "len(comps)\n",
    "comps\n"
   ]
  },
  {
   "cell_type": "code",
   "execution_count": null,
   "id": "conventional-naples",
   "metadata": {},
   "outputs": [],
   "source": [
    "S = [G.subgraph(c).copy() for c in nx.connected_components(G)]\n",
    "S = [G.subgraph(c).copy() for c in sorted(nx.connected_components(G), key=len, reverse=True)]\n",
    "\n"
   ]
  },
  {
   "cell_type": "code",
   "execution_count": null,
   "id": "proved-christopher",
   "metadata": {},
   "outputs": [],
   "source": [
    "len(S)"
   ]
  },
  {
   "cell_type": "code",
   "execution_count": null,
   "id": "conditional-shoulder",
   "metadata": {},
   "outputs": [],
   "source": [
    "S1 = S[0]"
   ]
  },
  {
   "cell_type": "code",
   "execution_count": null,
   "id": "uniform-advocate",
   "metadata": {
    "scrolled": true
   },
   "outputs": [],
   "source": [
    "describe_graph(S1)\n",
    "\n",
    "sorted(S1.nodes())"
   ]
  },
  {
   "cell_type": "code",
   "execution_count": null,
   "id": "together-throw",
   "metadata": {},
   "outputs": [],
   "source": [
    "# extract p_info per subgraph\n",
    "tmp = p_info[\n",
    "    (p_info.patient_id.isin(S1.nodes())) \n",
    "    | (p_info.infected_by.isin(S1.nodes()))\n",
    "]\n",
    "\n",
    "\n",
    "origin = tmp[tmp.confirmed_date == tmp.confirmed_date.min()].infected_by.mode()[0]\n",
    "n_infected\n",
    "days_since_start_mean = tmp.days_since_start.mean()\n",
    "days_since_start_sd = tmp.days_since_start.std()\n",
    "\n",
    "#tmp"
   ]
  },
  {
   "cell_type": "code",
   "execution_count": null,
   "id": "conscious-fraud",
   "metadata": {},
   "outputs": [],
   "source": [
    "#fig, ax = plt.subplots(figsize=(10,10))\n",
    "#nx.draw_networkx(S[0], pos=pos, ax=ax)\n",
    "\n",
    "def plot_subgraph(S) -> plt.Figure:\n",
    "\n",
    "    pos1 = nx.spring_layout(S, seed=444)\n",
    "\n",
    "    fig = plot_network(S, pos1, edges, height=500, width=500)\n",
    "    return fig\n",
    "\n",
    "plot_subgraph(S[0]).show()"
   ]
  },
  {
   "cell_type": "code",
   "execution_count": null,
   "id": "insured-precipitation",
   "metadata": {},
   "outputs": [],
   "source": [
    "Smax = max(nx.connected_components(G), key=len)\n",
    "len(Smax)"
   ]
  },
  {
   "cell_type": "markdown",
   "id": "diagnostic-manner",
   "metadata": {},
   "source": [
    "## over time ..."
   ]
  },
  {
   "cell_type": "code",
   "execution_count": null,
   "id": "wireless-circular",
   "metadata": {},
   "outputs": [],
   "source": [
    "import plotly.express as px\n",
    "fig = px.histogram(p_info, x=\"days_since_start\", template='simple_white')\n",
    "print(f' data range: {p_info.confirmed_date.dt.date.min()}, {p_info.confirmed_date.dt.date.max()}')\n",
    "fig.show()\n",
    "\n"
   ]
  },
  {
   "cell_type": "code",
   "execution_count": null,
   "id": "eleven-therapy",
   "metadata": {
    "scrolled": true
   },
   "outputs": [],
   "source": [
    "p_info[p_info.days_since_start > 100]"
   ]
  },
  {
   "cell_type": "code",
   "execution_count": null,
   "id": "statewide-fifteen",
   "metadata": {
    "scrolled": false
   },
   "outputs": [],
   "source": [
    "#cases_per_day = p_info.groupby(p_info.confirmed_date.dt.weekofyear).size().reset_index().rename(columns={0:'cases'})\n",
    "cases_per_day = p_info.set_index('confirmed_date').groupby(pd.Grouper(freq='W')).size().reset_index().rename(columns={0:'cases'})\n",
    "\n",
    "fig = px.line(cases_per_day, x='confirmed_date', y='cases', template='simple_white')\n",
    "fig.show()\n",
    "fig.write_image(os.path.join(plots_path, 'p_info_cases_weekly.png'), scale=5)\n"
   ]
  },
  {
   "cell_type": "code",
   "execution_count": null,
   "id": "dominant-velvet",
   "metadata": {},
   "outputs": [],
   "source": [
    "p_info.set_index('confirmed_date').groupby(pd.Grouper(freq='W')).size()\n"
   ]
  },
  {
   "cell_type": "code",
   "execution_count": null,
   "id": "german-firmware",
   "metadata": {
    "scrolled": true
   },
   "outputs": [],
   "source": [
    "#G = nx.random_geometric_graph(200, 0.125)\n",
    "\n",
    "for i, edge in enumerate(G.edges()): \n",
    "    print(i, edge)\n",
    "    print(i,  G.nodes[edge[0]])\n",
    "    print(i,  G.nodes[edge[1]])\n",
    "\n",
    "    if i > 10: \n",
    "        break \n"
   ]
  },
  {
   "cell_type": "markdown",
   "id": "million-globe",
   "metadata": {},
   "source": [
    "# Clustering"
   ]
  },
  {
   "cell_type": "code",
   "execution_count": null,
   "id": "figured-majority",
   "metadata": {},
   "outputs": [],
   "source": [
    "if false: \n",
    "    # https://stackoverflow.com/questions/62902871/how-can-i-cluster-a-graph-g-created-in-networkx\n",
    "    # https://towardsdatascience.com/node2vec-embeddings-for-graph-data-32a866340fef\n",
    "    # https://github.com/eliorc/Medium/blob/master/Nod2Vec-FIFA17-Example.ipynb\n",
    "\n",
    "    \"\"\"\n",
    "    Step 1: get the embedding of each node in the graph. \n",
    "    That means you need to get a continuous vector representation for each node. \n",
    "    You can use graph embedding methods like node2vec, deepwalk, etc to obtain the embedding. \n",
    "    Note that such methods preserve the structural similarity between the nodes of a graph in the vector representation \n",
    "    (embedding space). The following example shows how you can do that.\n",
    "    \"\"\"\n",
    "\n",
    "    import networkx as nx\n",
    "    G=nx.Graph();\n",
    "    G=nx.read_edgelist(\"edges.txt\") # edges.txt contains the edge list of your graph\n",
    "\n",
    "    # help to draw https://networkx.github.io/documentation/networkx-1.9/examples/drawing/labels_and_colors.html\n",
    "    nx.draw(G,with_labels = True,node_color='b',node_size=500);\n",
    "\n",
    "    from node2vec import Node2Vec\n",
    "    # Generate walks\n",
    "    node2vec = Node2Vec(G, dimensions=2, walk_length=20, num_walks=10,workers=4)\n",
    "    # Learn embeddings \n",
    "    model = node2vec.fit(window=10, min_count=1)\n",
    "    #model.wv.most_similar('1')\n",
    "    model.wv.save_word2vec_format(\"embedding.emb\") #save the embedding in file embedding.emb\n",
    "\n",
    "\n",
    "    \"\"\"\n",
    "    Step 2: apply the clustering method. \n",
    "    Once you get vector representation of the nodes, you can cluster the nodes based on those representations. \n",
    "    See the example below.\n",
    "    \"\"\"\n",
    "\n",
    "    from sklearn.cluster import KMeans\n",
    "    import numpy as np\n",
    "\n",
    "\n",
    "    X = np.loadtxt(\"embedding.emb\", skiprows=1) # load the embedding of the nodes of the graph\n",
    "    #print(X)\n",
    "    # sort the embedding based on node index in the first column in X\n",
    "    X=X[X[:,0].argsort()]; \n",
    "    #print(X)\n",
    "    Z=X[0:X.shape[0],1:X.shape[1]]; # remove the node index from X and save in Z\n",
    "\n",
    "    kmeans = KMeans(n_clusters=2, random_state=0).fit(Z) # apply kmeans on Z\n",
    "    labels=kmeans.labels_  # get the cluster labels of the nodes.\n",
    "    print(labels)\n"
   ]
  }
 ],
 "metadata": {
  "kernelspec": {
   "display_name": "Python 3",
   "language": "python",
   "name": "python3"
  },
  "language_info": {
   "codemirror_mode": {
    "name": "ipython",
    "version": 3
   },
   "file_extension": ".py",
   "mimetype": "text/x-python",
   "name": "python",
   "nbconvert_exporter": "python",
   "pygments_lexer": "ipython3",
   "version": "3.6.3"
  }
 },
 "nbformat": 4,
 "nbformat_minor": 5
}
